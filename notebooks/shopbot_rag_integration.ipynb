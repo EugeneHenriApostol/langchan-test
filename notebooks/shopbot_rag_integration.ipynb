{
 "cells": [
  {
   "cell_type": "code",
   "execution_count": 11,
   "metadata": {},
   "outputs": [],
   "source": [
    "from pinecone import Pinecone, ServerlessSpec\n",
    "import time\n",
    "import os\n",
    "from dotenv import load_dotenv\n",
    "\n",
    "# Load environment variables from a .env file\n",
    "load_dotenv()\n",
    "\n",
    "# Pinecone configuration\n",
    "api_key = os.getenv(\"PINECONE_API_KEY\")\n",
    "pc = Pinecone(api_key=api_key)\n",
    "\n",
    "spec = ServerlessSpec(\n",
    "    cloud=\"aws\", region=\"us-east-1\"\n",
    ")\n",
    "\n",
    "index_name = 'product-catalog-index'\n",
    "existing_indexes = [index_info[\"name\"] for index_info in pc.list_indexes()]\n",
    "\n",
    "# Connect to the index\n",
    "myindex = pc.Index(index_name)\n",
    "time.sleep(1)"
   ]
  },
  {
   "cell_type": "code",
   "execution_count": 12,
   "metadata": {},
   "outputs": [],
   "source": [
    "from langchain_google_genai import GoogleGenerativeAIEmbeddings\n",
    "\n",
    "# Load environment variables from a .env file\n",
    "load_dotenv()\n",
    "\n",
    "os.environ[\"GOOGLE_API_KEY\"] = os.getenv(\"GOOGLE_API_KEY\")\n",
    "embed_model = GoogleGenerativeAIEmbeddings(model=\"models/embedding-001\")"
   ]
  },
  {
   "cell_type": "code",
   "execution_count": 13,
   "metadata": {},
   "outputs": [],
   "source": [
    "from langchain_pinecone import PineconeVectorStore\n",
    "# Initialize Pinecone (assuming `myindex` is already created and configured)\n",
    "vectorstore = PineconeVectorStore(\n",
    "    index=myindex,  # Pinecone index instance\n",
    "    embedding=embed_model,  # Embeddings object\n",
    "    text_key='Description'  # Field in the database to be embedded\n",
    ")"
   ]
  },
  {
   "cell_type": "code",
   "execution_count": 14,
   "metadata": {},
   "outputs": [
    {
     "data": {
      "text/plain": [
       "[Document(id='10017413', metadata={'Gender': 'Unisex', 'Price': '500 USD', 'PrimaryColor': ' Black', 'ProductBrand': 'DKNY', 'ProductName': 'DKNY Unisex Black & Grey Printed Medium Trolley Bag'}, page_content='Black and grey printed medium trolley bag, secured with a TSA lockOne handle on the top and one on the side, has a trolley with a retractable handle on the top and four corner mounted inline skate wheelsOne main zip compartment, zip lining, two compression straps with click clasps, one zip compartment on the flap with three zip pocketsWarranty: 5 yearsWarranty provided by Brand Owner / Manufacturer')]"
      ]
     },
     "execution_count": 14,
     "metadata": {},
     "output_type": "execute_result"
    }
   ],
   "source": [
    "query = \"What is the price of DKNY Unisex Black & Grey Printed Medium Trolley Bag?\"\n",
    "\n",
    "vectorstore.similarity_search(\n",
    "    query,  # our search query\n",
    "    k=1  # return most relevant doc\n",
    ")"
   ]
  },
  {
   "cell_type": "code",
   "execution_count": 15,
   "metadata": {},
   "outputs": [],
   "source": [
    "import os\n",
    "import google.generativeai as genai\n",
    "\n",
    "# Load environment variables from a .env file\n",
    "load_dotenv()\n",
    "\n",
    "# Initialize the chat history\n",
    "chat_history = []\n",
    "\n",
    "# Define system_message globally or at the top of the notebook\n",
    "system_message = (\n",
    "    \"If a query lacks a direct answer e.g. durability, generate a response based on related features. \"\n",
    "    \"You are a helpful and respectful shop assistant who answers queries relevant only to the shop. \"\n",
    "    \"Please answer all questions politely. Use a conversational tone, like you're chatting with someone, \"\n",
    "    \"not like you're writing an email. If the user asks about anything outside of the shop data like if they ask \"\n",
    "    \"something irrelevant, simply say, 'I can only provide answers related to the shop, sir.\"\n",
    ")\n",
    "\n",
    "# Function to generate a response from Google Gemini\n",
    "def generate_answer(system_message, chat_history, prompt):\n",
    "    genai.configure(api_key=os.getenv(\"GOOGLE_API_KEY\"))\n",
    "    model = genai.GenerativeModel('gemini-pro')\n",
    "\n",
    "    # Append the new prompt to the chat history\n",
    "    chat_history.append(f\"User: {prompt}\")\n",
    "\n",
    "    # Combine the system message with the chat history\n",
    "    full_prompt = f\"{system_message}\\n\\n\" + \"\\n\".join(chat_history) + \"\\nAssistant:\"\n",
    "\n",
    "    # Generate the response and add it to the chat history\n",
    "    response = model.generate_content(full_prompt).text\n",
    "    chat_history.append(f\"Assistant: {response}\")\n",
    "    \n",
    "    return response\n",
    "\n",
    "# Function to create the relevant passage from vectorstore\n",
    "def get_relevant_passage(query, vectorstore):\n",
    "    results = vectorstore.similarity_search(query, k=1)\n",
    "    if results:\n",
    "        metadata = results[0].metadata\n",
    "        context = (\n",
    "            f\"Product Name: {metadata.get('ProductName', 'Not Available')}\\n\"\n",
    "            f\"Brand: {metadata.get('ProductBrand', 'Not Available')}\\n\"\n",
    "            f\"Price: {metadata.get('Price', 'Not Available')}\\n\"\n",
    "            f\"Color: {metadata.get('PrimaryColor', 'Not Available')}\\n\"\n",
    "            f\"Description: {results[0].page_content}\"\n",
    "        )\n",
    "        return context\n",
    "    return \"No relevant results found\"\n",
    "\n",
    "# Function to create the prompt for the chatbot\n",
    "def make_rag_prompt(query, context):\n",
    "    return f\"Query: {query}\\n\\nContext:\\n{context}\\n\\nAnswer:\""
   ]
  },
  {
   "cell_type": "code",
   "execution_count": 16,
   "metadata": {},
   "outputs": [
    {
     "name": "stdout",
     "output_type": "stream",
     "text": [
      "Answer: Sure, John! The DKNY Unisex Black & Grey Printed Medium Trolley Bag comes with a 5-year warranty provided by the brand owner/manufacturer. Is there anything else I can help you with?\n",
      "Answer: Sure, John! The Lino Perros Beige Solid Handheld Bag is a stylish and functional bag with a variety of features:\n",
      "- It has a spacious main compartment with a zip closure to keep your belongings secure.\n",
      "- There is also an external pocket and three inner pockets for easy organization of your smaller items.\n",
      "- The bag has two handles for comfortable carrying.\n",
      "- It does not come with a tablet sleeve\n",
      "\n",
      "Is there anything else I can help you with, John?\n"
     ]
    }
   ],
   "source": [
    "def main():\n",
    "    query = \"What is the warranty of DKNY Unisex Black & Grey Printed Medium Trolley Bag? And please call me john when I ask you questions\"\n",
    "\n",
    "    # Retrieve relevant passage and create a prompt\n",
    "    relevant_text = get_relevant_passage(query, vectorstore)\n",
    "    prompt = make_rag_prompt(query, relevant_text)\n",
    "\n",
    "    # Generate and print the final answer, maintaining chat history\n",
    "    answer = generate_answer(system_message, chat_history, prompt)\n",
    "    print(\"Answer:\", answer)\n",
    "\n",
    "    # Continue interaction (example of another question)\n",
    "    query2 = \"Can you tell me about the features of this bag?\"\n",
    "    relevant_text2 = get_relevant_passage(query2, vectorstore)\n",
    "    prompt2 = make_rag_prompt(query2, relevant_text2)\n",
    "    answer2 = generate_answer(system_message, chat_history, prompt2)\n",
    "    print(\"Answer:\", answer2)\n",
    "\n",
    "if __name__ == \"__main__\":\n",
    "    main()"
   ]
  },
  {
   "cell_type": "code",
   "execution_count": 17,
   "metadata": {},
   "outputs": [
    {
     "name": "stdout",
     "output_type": "stream",
     "text": [
      "Answer: I'm sorry, John, but I can't provide a direct answer to your question about the durability of the DKNY Unisex Black & Grey Printed Medium Trolley Bag based on the information available. However, I can tell you that the bag is made of high-quality materials and comes with a 5-year warranty from the manufacturer. This suggests that the bag is built to last and should withstand regular use.\n"
     ]
    }
   ],
   "source": [
    "# Third query\n",
    "query3 = \"How durable is the DKNY Unisex Black & Grey Printed Medium Trolley Bag?\"\n",
    "relevant_text3 = get_relevant_passage(query3, vectorstore)\n",
    "prompt3 = make_rag_prompt(query3, relevant_text3)\n",
    "\n",
    "# Generate and print the answer\n",
    "answer3 = generate_answer(system_message, chat_history, prompt3)\n",
    "print(\"Answer:\", answer3)"
   ]
  }
 ],
 "metadata": {
  "kernelspec": {
   "display_name": "Python 3",
   "language": "python",
   "name": "python3"
  },
  "language_info": {
   "codemirror_mode": {
    "name": "ipython",
    "version": 3
   },
   "file_extension": ".py",
   "mimetype": "text/x-python",
   "name": "python",
   "nbconvert_exporter": "python",
   "pygments_lexer": "ipython3",
   "version": "3.12.2"
  }
 },
 "nbformat": 4,
 "nbformat_minor": 2
}
